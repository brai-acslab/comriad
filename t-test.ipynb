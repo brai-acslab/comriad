{
 "cells": [
  {
   "cell_type": "code",
   "execution_count": 2,
   "metadata": {},
   "outputs": [],
   "source": [
    "import numpy as np\n",
    "from scipy import stats"
   ]
  },
  {
   "cell_type": "code",
   "execution_count": 7,
   "metadata": {},
   "outputs": [
    {
     "name": "stdout",
     "output_type": "stream",
     "text": [
      "Paired t-test results:\n",
      "t-statistic: -60.48634186900431\n",
      "P-value: 4.4743609675455195e-07\n",
      "There is a significant difference in training accuracy between the two models.\n"
     ]
    }
   ],
   "source": [
    "# Training accuracy of Model A at different epochs\n",
    "#model_A --> C, A, S\n",
    "model_A_accuracy = [0.892583333,0.900083333,0.89325,0.897,0.895416667]\n",
    "#Inception V3 [0.86375,0.864,0.861333333,0.856916667,0.862416667]\n",
    "#InceptionResnetV2 [0.413083333,0.4245,0.427916667,0.425,0.422]\n",
    "#Xception [0.788833333,0.780083333,0.781,0.78925,0.783333333]\n",
    "#DenseNet121 [0.815666667,0.8615,0.823166667,0.900083333,0.892583333]\n",
    "#CNN Scratch [0.892583333,0.900083333,0.89325,0.897,0.895416667]\n",
    "\n",
    "# Training accuracy of Model B at different epochs\n",
    "#model_B --> Co\n",
    "model_B_accuracy = [0.982,0.98375,0.98575,0.98625,0.9825]\n",
    "#Inception V3 [0.94425,0.981,0.97925,0.97925,0.98175]\n",
    "#InceptionResnetV2 [0.5585,0.56975,0.57425,0.561,0.574]\n",
    "#Xception [0.93825,0.93125,0.933,0.936,0.93425]\n",
    "#DenseNet121 [0.94325,0.95475,0.95675,0.98375,0.982]\n",
    "#CNN Scratch\n",
    "[0.982,0.98375,0.98575,0.98625,0.9825]\n",
    "\n",
    "\n",
    "\n",
    "# Calculate the differences in accuracy between the two models\n",
    "differences = [a - b for a, b in zip(model_A_accuracy, model_B_accuracy)]\n",
    "\n",
    "# Perform the paired t-test\n",
    "t_stat, p_value = stats.ttest_rel(model_A_accuracy, model_B_accuracy)\n",
    "\n",
    "# Print the results\n",
    "print(\"Paired t-test results:\")\n",
    "print(f\"t-statistic: {t_stat}\")\n",
    "print(f\"P-value: {p_value}\")\n",
    "\n",
    "# Check if the difference is statistically significant\n",
    "alpha = 0.05  # Significance level\n",
    "if p_value < alpha:\n",
    "    print(\"There is a significant difference in training accuracy between the two models.\")\n",
    "else:\n",
    "    print(\"There is no significant difference in training accuracy between the two models.\")\n"
   ]
  },
  {
   "cell_type": "code",
   "execution_count": 7,
   "metadata": {},
   "outputs": [
    {
     "name": "stdout",
     "output_type": "stream",
     "text": [
      "Group 1 Mean: 0.8956666666\n",
      "Group 2 Mean: 0.9840500000000001\n",
      "T-statistic: -55.28309090971739\n",
      "P-value: 1.2717220873991704e-11\n",
      "There is a significant difference between the two groups.\n"
     ]
    }
   ],
   "source": [
    "import numpy as np\n",
    "from scipy import stats\n",
    "\n",
    "# Sample data for two groups (test scores of students)\n",
    "group1_scores = [0.892583333, 0.900083333, 0.89325, 0.897, 0.895416667]\n",
    "group2_scores = [0.982, 0.98375, 0.98575, 0.98625, 0.9825]\n",
    "\n",
    "# Calculate the mean (average) for each group\n",
    "mean_group1 = np.mean(group1_scores)\n",
    "mean_group2 = np.mean(group2_scores)\n",
    "\n",
    "# Perform an independent two-sample t-test\n",
    "t_stat, p_value = stats.ttest_ind(group1_scores, group2_scores)\n",
    "\n",
    "# Print the results\n",
    "print(f\"Group 1 Mean: {mean_group1}\")\n",
    "print(f\"Group 2 Mean: {mean_group2}\")\n",
    "print(f\"T-statistic: {t_stat}\")\n",
    "print(f\"P-value: {p_value}\")\n",
    "\n",
    "# Determine if the difference is significant\n",
    "alpha = 0.05  # Significance level\n",
    "if p_value < alpha:\n",
    "    print(\"There is a significant difference between the two groups.\")\n",
    "else:\n",
    "    print(\"There is no significant difference between the two groups.\")\n"
   ]
  }
 ],
 "metadata": {
  "kernelspec": {
   "display_name": "tf2.5",
   "language": "python",
   "name": "python3"
  },
  "language_info": {
   "codemirror_mode": {
    "name": "ipython",
    "version": 3
   },
   "file_extension": ".py",
   "mimetype": "text/x-python",
   "name": "python",
   "nbconvert_exporter": "python",
   "pygments_lexer": "ipython3",
   "version": "3.8.0"
  }
 },
 "nbformat": 4,
 "nbformat_minor": 2
}
