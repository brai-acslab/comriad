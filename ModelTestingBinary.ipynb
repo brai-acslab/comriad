{
 "cells": [
  {
   "cell_type": "code",
   "execution_count": 39,
   "metadata": {},
   "outputs": [
    {
     "data": {
      "text/plain": [
       "[PhysicalDevice(name='/physical_device:GPU:0', device_type='GPU')]"
      ]
     },
     "execution_count": 39,
     "metadata": {},
     "output_type": "execute_result"
    }
   ],
   "source": [
    "import h5py\n",
    "import numpy as np\n",
    "from tensorflow.keras.models import Sequential\n",
    "import tensorflow as tf\n",
    "from tensorflow.keras.layers import Conv2D, Flatten, MaxPooling2D, Dense, Dropout, Activation, BatchNormalization\n",
    "from sklearn.metrics import accuracy_score\n",
    "import pandas as pd\n",
    "from sklearn.model_selection import train_test_split\n",
    "tf.config.list_physical_devices('GPU')"
   ]
  },
  {
   "cell_type": "code",
   "execution_count": 40,
   "metadata": {},
   "outputs": [],
   "source": [
    "def loadAlzeimer(plane):\n",
    "    if plane == 'coronal':\n",
    "        print(plane)\n",
    "        with h5py.File('data/Coronal-Augmented.h5', 'r') as hdf:\n",
    "            G1 = hdf.get('Train Data')\n",
    "            trainX = np.array(G1.get('x_train'))\n",
    "            trainY = np.array(G1.get('y_train'))\n",
    "            G2 = hdf.get('Test Data')\n",
    "            testX = np.array(G2.get('x_test'))\n",
    "            testY = np.array(G2.get('y_test'))\n",
    "\n",
    "    elif plane == 'sagittal':\n",
    "        print(plane)\n",
    "        with h5py.File('data/Sagittal-Augmented.h5', 'r') as hdf:\n",
    "            G1 = hdf.get('Train Data')\n",
    "            trainX = np.array(G1.get('x_train'))\n",
    "            trainY = np.array(G1.get('y_train'))\n",
    "            G2 = hdf.get('Test Data')\n",
    "            testX = np.array(G2.get('x_test'))\n",
    "            testY = np.array(G2.get('y_test'))\n",
    "    \n",
    "    else:\n",
    "        print(plane)\n",
    "        with h5py.File('data/Axial-Augmented.h5', 'r') as hdf:\n",
    "            G1 = hdf.get('Train Data')\n",
    "            trainX = np.array(G1.get('x_train'))\n",
    "            trainY = np.array(G1.get('y_train'))\n",
    "            G2 = hdf.get('Test Data')\n",
    "            testX = np.array(G2.get('x_test'))\n",
    "            testY = np.array(G2.get('y_test'))\n",
    "    \n",
    "    return trainX, trainY, testX, testY"
   ]
  },
  {
   "cell_type": "code",
   "execution_count": 41,
   "metadata": {},
   "outputs": [
    {
     "name": "stdout",
     "output_type": "stream",
     "text": [
      "coronal\n",
      "axial\n",
      "sagittal\n"
     ]
    }
   ],
   "source": [
    "_, _, x_testC, y_testC = loadAlzeimer('coronal')\n",
    "_, _, x_testA, y_testA = loadAlzeimer('axial')\n",
    "_, _, x_testS, y_testS = loadAlzeimer('sagittal')"
   ]
  },
  {
   "cell_type": "code",
   "execution_count": 42,
   "metadata": {},
   "outputs": [],
   "source": [
    "#extract first class labels out of binary classes \n",
    "def extract_binary_classes(X, Y, classes):\n",
    "    label1 = classes[0]\n",
    "    label2 = classes[1]\n",
    "\n",
    "    idx1 = [np.where(Y == label1)[0]]\n",
    "    idx1 = np.array(idx1)\n",
    "    idx1 = idx1.T\n",
    "    idx1 = np.squeeze(idx1)\n",
    "    xtrain_class1 = X[idx1]\n",
    "    ytrain_class1 = Y[idx1]\n",
    "    # print('label 1 shape')\n",
    "    # print(xtrain_class1.shape)\n",
    "    # print(ytrain_class1.shape)\n",
    "\n",
    "    idx2 = [np.where(Y == label2)[0]]\n",
    "    idx2 = np.array(idx2)\n",
    "    idx2 = idx2.T\n",
    "    idx2 = np.squeeze(idx2)\n",
    "    xtrain_class2 = X[idx2]\n",
    "    ytrain_class2 = Y[idx2]\n",
    "\n",
    "    # print('label 2 shape')\n",
    "    # print(xtrain_class2.shape)\n",
    "    # print(ytrain_class2.shape)\n",
    "    X_new = np.concatenate((xtrain_class1, xtrain_class2), axis=0)\n",
    "    Y_new = np.concatenate((ytrain_class1, ytrain_class2), axis=0)\n",
    "    X_new,_,Y_new,_ = train_test_split(X_new, Y_new, test_size=0.001, random_state=42)\n",
    "    # print('final shape')\n",
    "    # print(X_new.shape)\n",
    "    # print(Y_new.shape)\n",
    "    \n",
    "    return X_new, Y_new"
   ]
  },
  {
   "cell_type": "code",
   "execution_count": 43,
   "metadata": {},
   "outputs": [],
   "source": [
    "#labels for binary classification: 0: AD, 1: EMCI, 2: LMCI, 3:NC\n",
    "mapping = {\n",
    "    0: 'AD',\n",
    "    1: 'EMCI',\n",
    "    2: 'LMCI',\n",
    "    3: 'NC'\n",
    "}\n",
    "\n",
    "labels = [2, 0] ## must load the corresponding weights also. \n",
    "\n",
    "\n",
    "x_testC, y_testC = extract_binary_classes(x_testC,y_testC, labels)\n",
    "x_testA, y_testA = extract_binary_classes(x_testA,y_testA, labels)\n",
    "x_testS, y_testS = extract_binary_classes(x_testS,y_testS, labels)\n"
   ]
  },
  {
   "cell_type": "code",
   "execution_count": 44,
   "metadata": {},
   "outputs": [],
   "source": [
    "#load weights for C A S\n",
    "modelC = Sequential()\n",
    "modelC.add(Conv2D(16, (3, 3), input_shape=(218,182,1), activation='relu'))\n",
    "modelC.add(Conv2D(16, (3, 3), activation='relu'))\n",
    "#model.add(Conv2D(16, (3, 3), activation='relu'))\n",
    "modelC.add(MaxPooling2D(pool_size=(2, 2)))\n",
    "modelC.add(Conv2D(32, (3, 3), activation='relu'))\n",
    "modelC.add(Conv2D(32, (3, 3), activation='relu'))\n",
    "modelC.add(Conv2D(32, (3, 3), activation='relu'))\n",
    "modelC.add(MaxPooling2D(pool_size = (2, 2)))\n",
    "modelC.add(Conv2D(64, (3, 3), activation='relu'))\n",
    "modelC.add(Conv2D(16, (1,1)))\n",
    "modelC.add(Flatten())\n",
    "modelC.add(Dense(4, activation = 'softmax'))\n",
    "modelC.compile(loss='categorical_crossentropy',optimizer='adam',metrics =['acc'])\n",
    "modelC.load_weights('weights-binary/CNNScratch_coronal_LMCIvsAD.hdf5')\n",
    "\n",
    "modelA = Sequential()\n",
    "modelA.add(Conv2D(16, (3, 3), input_shape=(218,182,1), activation='relu'))\n",
    "modelA.add(Conv2D(16, (3, 3), activation='relu'))\n",
    "#model.add(Conv2D(16, (3, 3), activation='relu'))\n",
    "modelA.add(MaxPooling2D(pool_size=(2, 2)))\n",
    "modelA.add(Conv2D(32, (3, 3), activation='relu'))\n",
    "modelA.add(Conv2D(32, (3, 3), activation='relu'))\n",
    "modelA.add(Conv2D(32, (3, 3), activation='relu'))\n",
    "modelA.add(MaxPooling2D(pool_size = (2, 2)))\n",
    "modelA.add(Conv2D(64, (3, 3), activation='relu'))\n",
    "modelA.add(Conv2D(16, (1,1)))\n",
    "modelA.add(Flatten())\n",
    "modelA.add(Dense(4, activation = 'softmax'))\n",
    "modelA.compile(loss='categorical_crossentropy',optimizer='adam',metrics =['acc'])\n",
    "modelA.load_weights('weights-binary/CNNScratch_axial_LMCIvsAD.hdf5')\n",
    "\n",
    "modelS = Sequential()\n",
    "modelS.add(Conv2D(16, (3, 3), input_shape=(218,182,1), activation='relu'))\n",
    "modelS.add(Conv2D(16, (3, 3), activation='relu'))\n",
    "#model.add(Conv2D(16, (3, 3), activation='relu'))\n",
    "modelS.add(MaxPooling2D(pool_size=(2, 2)))\n",
    "modelS.add(Conv2D(32, (3, 3), activation='relu'))\n",
    "modelS.add(Conv2D(32, (3, 3), activation='relu'))\n",
    "modelS.add(Conv2D(32, (3, 3), activation='relu'))\n",
    "modelS.add(MaxPooling2D(pool_size = (2, 2)))\n",
    "modelS.add(Conv2D(64, (3, 3), activation='relu'))\n",
    "modelS.add(Conv2D(16, (1,1)))\n",
    "modelS.add(Flatten())\n",
    "modelS.add(Dense(4, activation = 'softmax'))\n",
    "modelS.compile(loss='categorical_crossentropy',optimizer='adam',metrics =['acc'])\n",
    "modelS.load_weights('weights-binary/CNNScratch_sagittal_LMCIvsAD.hdf5')"
   ]
  },
  {
   "cell_type": "code",
   "execution_count": 45,
   "metadata": {},
   "outputs": [
    {
     "name": "stdout",
     "output_type": "stream",
     "text": [
      "(4000, 218, 182, 1) (4000, 218, 182, 1) (4000, 218, 182, 1)\n",
      "coronal prediction\n",
      "axial prediction\n",
      "sagittal prediction\n",
      "(4000, 4)\n"
     ]
    }
   ],
   "source": [
    "xtestCs = []\n",
    "xtestAs = []\n",
    "xtestSs = []\n",
    "np.random.seed(103)\n",
    "\n",
    "##############################################\n",
    "# GENERATE RANDOM PATTERNS OF ONLY TWO LABELS #\n",
    "##############################################\n",
    "\n",
    "mapping = {\n",
    "    0: 'AD',\n",
    "    1: 'EMCI',\n",
    "    2: 'LMCI',\n",
    "    3: 'NC'\n",
    "}\n",
    "\n",
    "values = labels\n",
    "\n",
    "# Generate a random pattern of size 4000\n",
    "labels = np.random.choice(values, size=4000)\n",
    "\n",
    "\n",
    "#numClasses = len(np.unique(labels))\n",
    "numClasses = 4\n",
    "idxC = [np.where(y_testC == i)[0] for i in range(0, numClasses)]\n",
    "idxA = [np.where(y_testA == i)[0] for i in range(0, numClasses)]\n",
    "idxS = [np.where(y_testS == i)[0] for i in range(0, numClasses)]\n",
    "\n",
    "for i in range(len(labels)):\n",
    "   #print(i)\n",
    "   index = labels[i] #for every label in the test labels. \n",
    "   imgIndex = np.random.choice(idxC[index]) #generate image index belonging to Coronal plane for the same label. \n",
    "   #print('c index',imgIndex)\n",
    "   xtestCs.append(x_testC[imgIndex]) #pick the image belonging to the same label from coronal plane. \n",
    "\n",
    "   imgIndex = np.random.choice(idxA[index]) #generate image index belonging to Axial plane for the same label. \n",
    "   #print('a index',imgIndex)\n",
    "   xtestAs.append(x_testA[imgIndex]) #pick the image belonging to the same label from axial plane. \n",
    "   \n",
    "   imgIndex = np.random.choice(idxS[index]) #generate image index belonging to Sagittal plane for the same label. \n",
    "   #print('s index',imgIndex)\n",
    "   xtestSs.append(x_testS[imgIndex]) #pick the image belonging to the same label from sagital plane. \n",
    "\n",
    "#convert the lists to np arrays. \n",
    "xtestCs = np.array(xtestCs)\n",
    "xtestAs = np.array(xtestAs)\n",
    "xtestSs = np.array(xtestSs)\n",
    "print(xtestCs.shape,xtestAs.shape,xtestSs.shape)\n",
    "\n",
    "\n",
    "# #get the data ready for prediction using the loaded models <<Not needed for CNN Scratch>> \n",
    "# xtestCs = np.repeat(xtestCs, 3,axis=3)\n",
    "# xtestAs = np.repeat(xtestAs, 3,axis=3)\n",
    "# xtestSs = np.repeat(xtestSs, 3,axis=3)\n",
    "\n",
    "#prediction using multiplanes [using the best weights]\n",
    "print('coronal prediction')\n",
    "predictionCoronal = modelC.predict(xtestCs)\n",
    "print('axial prediction')\n",
    "predictionAxial = modelA.predict(xtestAs)\n",
    "print('sagittal prediction')\n",
    "predictionSagittal = modelS.predict(xtestSs)\n",
    "\n",
    "print(predictionCoronal.shape)\n",
    "y_pred_coronal =np.argmax(predictionCoronal,axis=1)\n",
    "y_pred_axial = np.argmax(predictionAxial,axis=1)\n",
    "y_pred_sagittal = np.argmax(predictionSagittal,axis=1)"
   ]
  },
  {
   "cell_type": "code",
   "execution_count": 46,
   "metadata": {},
   "outputs": [
    {
     "name": "stdout",
     "output_type": "stream",
     "text": [
      "===================================Ensemble=============================================\n",
      "ensemble accuracy = 0.99325\n",
      "================================== Coronal ==============================================\n",
      "Coronal accuracy = 0.95\n",
      "================================== axial ==============================================\n",
      "Axial accuracy = 0.955\n",
      "================================== Sagittal ==============================================\n",
      "Sagittal accuracy = 0.947\n"
     ]
    },
    {
     "data": {
      "image/png": "[encoded data removed]",
      "text/plain": [
       "<Figure size 700x600 with 1 Axes>"
      ]
     },
     "metadata": {},
     "output_type": "display_data"
    },
    {
     "data": {
      "image/png": "[encoded data removed]",
      "text/plain": [
       "<Figure size 700x600 with 1 Axes>"
      ]
     },
     "metadata": {},
     "output_type": "display_data"
    },
    {
     "data": {
      "image/png": "[encoded data removed]",
      "text/plain": [
       "<Figure size 700x600 with 1 Axes>"
      ]
     },
     "metadata": {},
     "output_type": "display_data"
    },
    {
     "data": {
      "image/png": "[encoded data removed]",
      "text/plain": [
       "<Figure size 700x600 with 1 Axes>"
      ]
     },
     "metadata": {},
     "output_type": "display_data"
    }
   ],
   "source": [
    "preds = np.stack([predictionCoronal,predictionAxial, predictionSagittal], axis=0)\n",
    "summed = np.sum(preds, axis=0) #computes the sum of probability by all 3 models for each class\n",
    "ensemble_prediction = np.argmax(summed, axis=1) \n",
    "\n",
    "#from sklearn.metrics import multilabel_confusion_matrix\n",
    "from sklearn.metrics import confusion_matrix\n",
    "import matplotlib.pyplot as plt\n",
    "import seaborn as sns\n",
    "print(\"===================================Ensemble=============================================\")\n",
    "cf_matrix = confusion_matrix(labels, ensemble_prediction)\n",
    "fig = plt.figure(figsize=(7, 6))\n",
    "ax= plt.subplot()\n",
    "sns.heatmap(cf_matrix, annot=True, cmap='Blues', cbar=False, linewidth=0.5,linecolor=\"black\",fmt='')\n",
    "ax.set_xlabel('Predicted Label', fontsize=12)\n",
    "ax.set_ylabel('True Label', fontsize=12)\n",
    "plt.draw()\n",
    "filepath = 'testing-cm-binary/CNNScratch_Ensemble_LMCIvsAD_4000.pdf'\n",
    "plt.savefig(filepath)\n",
    "\n",
    "tn, fp, fn, tp = confusion_matrix(labels, ensemble_prediction).ravel()\n",
    "Sp_e = tn / (tn + fp)\n",
    "Se_e = tp / (tp + fn)\n",
    "FNR_e = 1-Sp_e\n",
    "FPR_e = 1-Se_e\n",
    "Ac_e = accuracy_score(labels, ensemble_prediction)\n",
    "print('ensemble accuracy =', Ac_e)\n",
    "\n",
    "print(\"================================== Coronal ==============================================\")\n",
    "cf_matrix = confusion_matrix(labels, y_pred_coronal)\n",
    "fig = plt.figure(figsize=(7, 6))\n",
    "ax= plt.subplot()\n",
    "sns.heatmap(cf_matrix, annot=True, cmap='Blues', cbar=False, linewidth=0.5,linecolor=\"black\",fmt='')\n",
    "ax.set_xlabel('Predicted Label', fontsize=12)\n",
    "ax.set_ylabel('True Label', fontsize=12)\n",
    "plt.draw()\n",
    "filepath = 'testing-cm-binary/CNNScratch_Coronal_LMCIvsAD_4000.pdf'\n",
    "plt.savefig(filepath)\n",
    "\n",
    "tn, fp, fn, tp = confusion_matrix(labels, y_pred_coronal).ravel()\n",
    "Sp_c = tn / (tn + fp)\n",
    "Se_c = tp / (tp + fn)\n",
    "FNR_c = 1-Sp_c\n",
    "FPR_c = 1-Se_c\n",
    "Ac_c = accuracy_score(labels, y_pred_coronal)\n",
    "print('Coronal accuracy =', Ac_c)\n",
    "\n",
    "print(\"================================== axial ==============================================\")\n",
    "cf_matrix = confusion_matrix(labels, y_pred_axial)\n",
    "fig = plt.figure(figsize=(7, 6))\n",
    "ax= plt.subplot()\n",
    "sns.heatmap(cf_matrix, annot=True, cmap='Blues', cbar=False, linewidth=0.5,linecolor=\"black\",fmt='')\n",
    "ax.set_xlabel('Predicted Label', fontsize=12)\n",
    "ax.set_ylabel('True Label', fontsize=12)\n",
    "plt.draw()\n",
    "filepath = 'testing-cm-binary/CNNScratch_Axial_LMCIvsAD_4000.pdf'\n",
    "plt.savefig(filepath)\n",
    "\n",
    "tn, fp, fn, tp = confusion_matrix(labels, y_pred_axial).ravel()\n",
    "Sp_a = tn / (tn + fp)\n",
    "Se_a = tp / (tp + fn)\n",
    "FNR_a = 1-Sp_a\n",
    "FPR_a = 1-Se_a\n",
    "Ac_a = accuracy_score(labels, y_pred_axial)\n",
    "print('Axial accuracy =', Ac_a)\n",
    "print(\"================================== Sagittal ==============================================\")\n",
    "cf_matrix = confusion_matrix(labels, y_pred_sagittal)\n",
    "fig = plt.figure(figsize=(7, 6))\n",
    "ax= plt.subplot()\n",
    "sns.heatmap(cf_matrix, annot=True, cmap='Blues', cbar=False, linewidth=0.5,linecolor=\"black\",fmt='')\n",
    "ax.set_xlabel('Predicted Label', fontsize=12)\n",
    "ax.set_ylabel('True Label', fontsize=12)\n",
    "plt.draw()\n",
    "filepath = 'testing-cm-binary/CNNScratch_Sagittal_LMCIvsAD_4000.pdf'\n",
    "plt.savefig(filepath)\n",
    "\n",
    "tn, fp, fn, tp = confusion_matrix(labels, y_pred_sagittal).ravel()\n",
    "Sp_s = tn / (tn + fp)\n",
    "Se_s = tp / (tp + fn)\n",
    "FNR_s = 1-Sp_s\n",
    "FPR_s = 1-Se_s\n",
    "Ac_s = accuracy_score(labels, y_pred_sagittal)\n",
    "print('Sagittal accuracy =', Ac_s)\n",
    "\n",
    "metrics = {'Accuracy':[Ac_c,Ac_a,Ac_s, Ac_e],\n",
    "           'Specificity':[Sp_c,Sp_a,Sp_s,Sp_e],\n",
    "           'Sensitivity':[Se_c,Se_a,Se_s,Se_e],\n",
    "           'FNR':[FNR_c, FNR_a, FNR_s, FNR_e],\n",
    "           'FPR':[FPR_c, FPR_a, FPR_s, FPR_e]\n",
    "           }\n",
    "\n",
    "df = pd.DataFrame(metrics)\n",
    "df.index = ['coronal', 'axial', 'sagittal', 'ensemble']\n",
    "# #print (df)\n",
    "df.to_csv('testing-metrics-binary//' + 'CNN_LMCIvsAD_4000.csv')"
   ]
  }
 ],
 "metadata": {
  "kernelspec": {
   "display_name": "tf2.5",
   "language": "python",
   "name": "python3"
  },
  "language_info": {
   "codemirror_mode": {
    "name": "ipython",
    "version": 3
   },
   "file_extension": ".py",
   "mimetype": "text/x-python",
   "name": "python",
   "nbconvert_exporter": "python",
   "pygments_lexer": "ipython3",
   "version": "3.8.0"
  },
  "orig_nbformat": 4
 },
 "nbformat": 4,
 "nbformat_minor": 2
}
